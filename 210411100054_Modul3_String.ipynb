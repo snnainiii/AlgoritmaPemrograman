{
  "nbformat": 4,
  "nbformat_minor": 0,
  "metadata": {
    "colab": {
      "provenance": []
    },
    "kernelspec": {
      "name": "python3",
      "display_name": "Python 3"
    },
    "language_info": {
      "name": "python"
    }
  },
  "cells": [
    {
      "cell_type": "markdown",
      "metadata": {
        "id": "BHAnkLUwBAFO"
      },
      "source": [
        "**Nama : SITI NUR AINI**\n",
        "\n",
        "**NIM : 210411100054**\n",
        "\n",
        "**MODUL 3 - STRING**"
      ]
    },
    {
      "cell_type": "markdown",
      "metadata": {
        "id": "Hv4wE1sSBVDn"
      },
      "source": [
        "# **1 Konsep String**\n",
        "\n",
        "\n",
        "---\n",
        "Tulis ringkasan atau penjelasan hal-hal berikut, dengan kata-kata kalian sendiri :\n",
        "\n",
        "\n",
        "---\n",
        "\n",
        "\n"
      ]
    },
    {
      "cell_type": "markdown",
      "metadata": {
        "id": "w_RPQVwvBnt2"
      },
      "source": [
        "##### **1. Pengertian tipe data string, dan berikan contoh**"
      ]
    },
    {
      "cell_type": "markdown",
      "metadata": {
        "id": "7YX6die_CATw"
      },
      "source": [
        "\n",
        "\n",
        "*   **Pengertian Tipe Data String**\n",
        "\n",
        "  Tipe data string merupakan tipe data yang terdiri dari beberapa character (numeric, alfabet, dan campuran) yang diapit oleh tanda petik tunggal (') atau petik ganda (\")\n",
        "\n",
        "*  **Contoh**\n",
        "\n",
        "\n",
        "\n",
        "\n"
      ]
    },
    {
      "cell_type": "code",
      "metadata": {
        "colab": {
          "base_uri": "https://localhost:8080/"
        },
        "id": "ZIzVdHV7Ctp1",
        "outputId": "dd94b7eb-6341-42c6-af78-2d41546c26b3"
      },
      "source": [
        "nama1 = 'aini'\n",
        "print(nama1)\n",
        "print(nama1, '- memiliki type data = ',type(nama1))"
      ],
      "execution_count": null,
      "outputs": [
        {
          "output_type": "stream",
          "name": "stdout",
          "text": [
            "aini\n",
            "aini - memiliki type data =  <class 'str'>\n"
          ]
        }
      ]
    },
    {
      "cell_type": "code",
      "metadata": {
        "colab": {
          "base_uri": "https://localhost:8080/"
        },
        "id": "9OSMwbheC5xd",
        "outputId": "d56fe337-b95b-45b1-9210-0c8afab7311a"
      },
      "source": [
        "nama2 = \"aini\"\n",
        "print(nama2)\n",
        "print(nama2, '- memiliki tipe data = ', type(nama2))"
      ],
      "execution_count": null,
      "outputs": [
        {
          "output_type": "stream",
          "name": "stdout",
          "text": [
            "aini\n",
            "aini - memiliki tipe data =  <class 'str'>\n"
          ]
        }
      ]
    },
    {
      "cell_type": "code",
      "metadata": {
        "colab": {
          "base_uri": "https://localhost:8080/"
        },
        "id": "WIbV1g3fC_yX",
        "outputId": "47dae34b-31ee-4694-e801-99a67834acd8"
      },
      "source": [
        "angka = '2020'\n",
        "print(angka)\n",
        "print(angka, '- memiliki type data = ', type(angka))"
      ],
      "execution_count": null,
      "outputs": [
        {
          "output_type": "stream",
          "name": "stdout",
          "text": [
            "2020\n",
            "2020 - memiliki type data =  <class 'str'>\n"
          ]
        }
      ]
    },
    {
      "cell_type": "code",
      "metadata": {
        "colab": {
          "base_uri": "https://localhost:8080/"
        },
        "id": "zrP8mxWTDIwU",
        "outputId": "72b38ea8-f738-4d67-a382-7af9f4c397b1"
      },
      "source": [
        "tahun = \"'2022'\"\n",
        "print(tahun)\n",
        "print(tahun, '- memiliki type data = ', type(tahun))"
      ],
      "execution_count": null,
      "outputs": [
        {
          "output_type": "stream",
          "name": "stdout",
          "text": [
            "'2022'\n",
            "'2022' - memiliki type data =  <class 'str'>\n"
          ]
        }
      ]
    },
    {
      "cell_type": "code",
      "metadata": {
        "colab": {
          "base_uri": "https://localhost:8080/"
        },
        "id": "CClEOK-uDDvT",
        "outputId": "1f138318-facc-4c68-fc8d-99ac5f0c87de"
      },
      "source": [
        "tahun = '\"2021\"'\n",
        "print(tahun)\n",
        "print(tahun, '- memiliki type data = ', type(tahun))"
      ],
      "execution_count": null,
      "outputs": [
        {
          "output_type": "stream",
          "name": "stdout",
          "text": [
            "\"2021\"\n",
            "\"2021\" - memiliki type data =  <class 'str'>\n"
          ]
        }
      ]
    },
    {
      "cell_type": "markdown",
      "metadata": {
        "id": "hvKLSFm4Djf_"
      },
      "source": [
        "#####**2. Pengaksesan variabel yang bertipe string (jelaskan offset, dan pengaksesan karakter melalui offset), dan berikan contoh**"
      ]
    },
    {
      "cell_type": "markdown",
      "metadata": {
        "id": "7pvFWpGsD9Hv"
      },
      "source": [
        "\n",
        "*   **Pengertian Offset**\n",
        "\n",
        "  Offset menunjukan posisi dari suatu karakter di dalam variabel bertype data string.\n",
        "  \n",
        "  Offset dihitung dari posisi awal, yaitu = 0.\n",
        "  \n",
        "  Offset disebut juga dengan index.\n",
        "  \n",
        "  Untuk dapat mengakses suatu karakter di dalam string, dapat dilakukan dengan mengunakan kurung siku ( [ ] ) setelah nama variabel\n",
        "\n",
        "*  **Pengaksesan Karakter Melalui Offset**\n",
        "\n",
        "  [n] = menampilkan suatu offset\n",
        "  \n",
        "  [a:b] = menampilkan offset dari a sampai b-1\n",
        "  \n",
        "  [a:] = menampilkan offset dari sesudah a sampai akhir\n",
        "  \n",
        "  [:b] = menampilkan offset dari awal sampai b\n",
        "  \n",
        "  [-n] = menampilkan offset dari karakter terakhir/offset dimulai dari karakter terakhir\n",
        "  \n",
        "  [:-n] = menampilkan offset dari awal sampai sebelum terakhir -n\n",
        "\n",
        "\n",
        "*   **Contoh**\n"
      ]
    },
    {
      "cell_type": "code",
      "metadata": {
        "colab": {
          "base_uri": "https://localhost:8080/"
        },
        "id": "PPOjwFKxGN_S",
        "outputId": "70d8a502-9517-4045-9860-a3ab3c0797d4"
      },
      "source": [
        "# contoh [n]\n",
        "novel = 'filosofi teras'\n",
        "print(novel[9])\n",
        "print(novel[4])"
      ],
      "execution_count": null,
      "outputs": [
        {
          "output_type": "stream",
          "name": "stdout",
          "text": [
            "t\n",
            "s\n"
          ]
        }
      ]
    },
    {
      "cell_type": "code",
      "metadata": {
        "colab": {
          "base_uri": "https://localhost:8080/"
        },
        "id": "UR_OtozTGe7v",
        "outputId": "0c36c0e8-64cc-46d9-83c5-209b9da883e0"
      },
      "source": [
        "# contoh [a:b]\n",
        "novel = 'filosofi teras'\n",
        "print(novel[4:8])\n",
        "print(novel[6:13])"
      ],
      "execution_count": null,
      "outputs": [
        {
          "output_type": "stream",
          "name": "stdout",
          "text": [
            "sofi\n",
            "fi tera\n"
          ]
        }
      ]
    },
    {
      "cell_type": "code",
      "metadata": {
        "colab": {
          "base_uri": "https://localhost:8080/"
        },
        "id": "BX4XtkBLGkwS",
        "outputId": "a676221e-8640-4e5b-f394-c451e3c1012d"
      },
      "source": [
        "# contoh [a:]\n",
        "novel = 'filosofi teras'\n",
        "print(novel[2:])\n",
        "print(novel[9:])"
      ],
      "execution_count": null,
      "outputs": [
        {
          "output_type": "stream",
          "name": "stdout",
          "text": [
            "losofi teras\n",
            "teras\n"
          ]
        }
      ]
    },
    {
      "cell_type": "code",
      "metadata": {
        "colab": {
          "base_uri": "https://localhost:8080/"
        },
        "id": "X7EXSGLBGr6w",
        "outputId": "5c036684-2313-485d-a465-de6b22532e6c"
      },
      "source": [
        "# contoh [:b]\n",
        "novel = 'filosofi teras'\n",
        "print(novel[:10])\n",
        "print(novel[:5])"
      ],
      "execution_count": null,
      "outputs": [
        {
          "output_type": "stream",
          "name": "stdout",
          "text": [
            "filosofi t\n",
            "filos\n"
          ]
        }
      ]
    },
    {
      "cell_type": "code",
      "metadata": {
        "colab": {
          "base_uri": "https://localhost:8080/"
        },
        "id": "94QhIcaOGzRK",
        "outputId": "ecd50f1a-8933-4462-df4d-d632ed5cfd2b"
      },
      "source": [
        "# contoh [-n]\n",
        "novel = 'filosofi teras'\n",
        "print(novel[-1])\n",
        "print(novel[-2])"
      ],
      "execution_count": null,
      "outputs": [
        {
          "output_type": "stream",
          "name": "stdout",
          "text": [
            "s\n",
            "a\n"
          ]
        }
      ]
    },
    {
      "cell_type": "code",
      "metadata": {
        "colab": {
          "base_uri": "https://localhost:8080/"
        },
        "id": "rK_YW2hHG5Ky",
        "outputId": "fe2276a6-74b2-4574-a8c4-3d27d0afd754"
      },
      "source": [
        "# contoh [:-n]\n",
        "novel = 'filosofi teras'\n",
        "print(novel[:-1])\n",
        "print(novel[:-2])\n",
        "print(novel[:-4])"
      ],
      "execution_count": null,
      "outputs": [
        {
          "output_type": "stream",
          "name": "stdout",
          "text": [
            "filosofi tera\n",
            "filosofi ter\n",
            "filosofi t\n"
          ]
        }
      ]
    },
    {
      "cell_type": "markdown",
      "metadata": {
        "id": "nlVsDUpwHmsu"
      },
      "source": [
        "#####**3. Berikan contoh tiga method yang dapat digunakan untuk variabel dengan tipe string**"
      ]
    },
    {
      "cell_type": "markdown",
      "metadata": {
        "id": "mYaPV0QPIA7H"
      },
      "source": [
        "**1. upper()**"
      ]
    },
    {
      "cell_type": "code",
      "metadata": {
        "colab": {
          "base_uri": "https://localhost:8080/"
        },
        "id": "XskWyWsaHw-x",
        "outputId": "61c56e69-092b-4ed5-ac41-e87461f70392"
      },
      "source": [
        "# upper()\n",
        "novel = 'filosofi teras'\n",
        "print(novel.upper())"
      ],
      "execution_count": null,
      "outputs": [
        {
          "output_type": "stream",
          "name": "stdout",
          "text": [
            "FILOSOFI TERAS\n"
          ]
        }
      ]
    },
    {
      "cell_type": "markdown",
      "metadata": {
        "id": "uHibfjQDIKRn"
      },
      "source": [
        "**2. replace(old,new)**"
      ]
    },
    {
      "cell_type": "code",
      "metadata": {
        "colab": {
          "base_uri": "https://localhost:8080/"
        },
        "id": "mbg-ne2VH5RV",
        "outputId": "034c5353-1506-434e-b47c-ba83e1042af9"
      },
      "source": [
        "# replace(old,new)\n",
        "novel = 'filosofi teras'\n",
        "print(novel.replace('f','p'))\n",
        "print(novel.replace('f','F'))"
      ],
      "execution_count": null,
      "outputs": [
        {
          "output_type": "stream",
          "name": "stdout",
          "text": [
            "pilosopi teras\n",
            "FilosoFi teras\n"
          ]
        }
      ]
    },
    {
      "cell_type": "markdown",
      "metadata": {
        "id": "vxE-NfKdIQN2"
      },
      "source": [
        "**3. find()**"
      ]
    },
    {
      "cell_type": "code",
      "metadata": {
        "colab": {
          "base_uri": "https://localhost:8080/"
        },
        "id": "UF0SIKvpH9ZK",
        "outputId": "1435698f-aee7-458f-b923-fd044feacee6"
      },
      "source": [
        "# find()\n",
        "novel = 'filosofi teras'\n",
        "print(novel.find('a'))\n",
        "print(novel.find('t'))"
      ],
      "execution_count": null,
      "outputs": [
        {
          "output_type": "stream",
          "name": "stdout",
          "text": [
            "12\n",
            "9\n"
          ]
        }
      ]
    },
    {
      "cell_type": "markdown",
      "metadata": {
        "id": "JSHe7AYRJrTv"
      },
      "source": [
        "# **2 Implementasi**"
      ]
    },
    {
      "cell_type": "markdown",
      "metadata": {
        "id": "AfAOT9eYJ2o9"
      },
      "source": [
        "### **2.1 Counter**\n",
        "Buatlah code dengan menggunakan Python untuk counter karakter, yaitu:\n",
        "\n",
        "*   menentukan jumlah huruf vokal (aiueo), huruf konsonan, dan spasi, dari suatu kalimat (input dari\n",
        "user)\n",
        "*   huruf kapital dianggap sama dengan huruf kecil, misalkan A sama dengan a\n",
        "*   tampilkan juga huruf vokal dan huruf konsonan apa saja yang terdapat pada kalimat tersebut\n",
        "\n",
        "Contoh output yang dihasilkan dapat dilihat pada Gambar 1.\n",
        "\n",
        "Petunjuk : dapat menggunakan bantuan syntax in, seperti contoh berikut :\n",
        ">’e’ in ’aiueo’\n",
        "\n",
        "maka output yang dihasilkan dari syntax tersebut adalah True"
      ]
    },
    {
      "cell_type": "code",
      "metadata": {
        "colab": {
          "base_uri": "https://localhost:8080/"
        },
        "id": "A9eKXm80LCI3",
        "outputId": "b1b3e9b7-8a0f-4af7-d72f-0223320d54bf"
      },
      "source": [
        "# contoh gambar 1a\n",
        "kalimat = input('Masukkan Kalimat = ')\n",
        "vokal = 0\n",
        "spasi = 0\n",
        "konsonan = 0\n",
        "a = ''\n",
        "b = ''\n",
        "for x in kalimat:\n",
        "    if x in 'AIUEOaiueo':\n",
        "        vokal += 1\n",
        "        a = a + x + ' '\n",
        "    elif x in ' ':\n",
        "        spasi += 1\n",
        "    else:\n",
        "        konsonan += 1\n",
        "        b += x + ' '\n",
        "print('Jumlah Huruf Vokal : ', vokal, ', yaitu : ', a)\n",
        "print('Jumlah konsonan :', konsonan ,', yaitu :', b)\n",
        "print('Jumlah spasi :', spasi)"
      ],
      "execution_count": null,
      "outputs": [
        {
          "output_type": "stream",
          "name": "stdout",
          "text": [
            "Masukkan Kalimat = Algoritma Pemrograman\n",
            "Jumlah Huruf Vokal :  8 , yaitu :  A o i a e o a a \n",
            "Jumlah konsonan : 12 , yaitu : l g r t m P m r g r m n \n",
            "Jumlah spasi : 1\n"
          ]
        }
      ]
    },
    {
      "cell_type": "code",
      "metadata": {
        "colab": {
          "base_uri": "https://localhost:8080/"
        },
        "id": "OU424xNVL8KK",
        "outputId": "65b28be4-7494-4ab8-8446-8ccb2d77bcc4"
      },
      "source": [
        "# contoh gambar 1b\n",
        "kalimat = input('Masukkan Kalimat = ')\n",
        "vokal = 0\n",
        "spasi = 0\n",
        "konsonan = 0\n",
        "a = ''\n",
        "b = ''\n",
        "for x in kalimat:\n",
        "    if x in 'AIUEOaiueo':\n",
        "        vokal += 1\n",
        "        a = a + x + ' '\n",
        "    elif x in ' ':\n",
        "        spasi += 1\n",
        "    else:\n",
        "        konsonan += 1\n",
        "        b = b + x + ' '\n",
        "print('Jumlah Huruf Vokal : ', vokal, ', yaitu : ', a)\n",
        "print('Jumlah konsonan :', konsonan ,', yaitu :', b)\n",
        "print('Jumlah spasi :', spasi)"
      ],
      "execution_count": null,
      "outputs": [
        {
          "output_type": "stream",
          "name": "stdout",
          "text": [
            "Masukkan Kalimat = Universitas Trunojoyo Madura\n",
            "Jumlah Huruf Vokal :  12 , yaitu :  U i e i a u o o o a u a \n",
            "Jumlah konsonan : 14 , yaitu : n v r s t s T r n j y M d r \n",
            "Jumlah spasi : 2\n"
          ]
        }
      ]
    },
    {
      "cell_type": "markdown",
      "metadata": {
        "id": "TcRIehdUMjAK"
      },
      "source": [
        "#### **2.2 Offset Karakter**\n",
        "Buatlah flowchart untuk mencari indeks/offset dari suatu karakter atau huruf pada suatu kalimat, dengan\n",
        "ketentuan:\n",
        "\n",
        "*   kalimat merupakan inputan dari user\n",
        "*   huruf yang dicari merupakan inputan dari user\n",
        "*   huruf kapital (huruf besar) dan huruf kecil dianggap sama\n",
        "\n",
        "Implementasikan flowchart tersebut dengan bahasa Python, dan contoh output sesuai dengan Gambar 2.\n"
      ]
    },
    {
      "cell_type": "markdown",
      "metadata": {
        "id": "b54mUairM9wP"
      },
      "source": [
        "![modul 03 - Main 3.png](data:image/png;base64,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)"
      ]
    },
    {
      "cell_type": "code",
      "metadata": {
        "colab": {
          "base_uri": "https://localhost:8080/"
        },
        "id": "X8IGs-nIM-MY",
        "outputId": "b79c607c-e7c7-4c3a-e636-6201963905ab"
      },
      "source": [
        "# contoh 2a\n",
        "kalimat = input('Masukkan Kalimat : ')\n",
        "huruf = input('Masukkan Huruf yang Dicari : ')\n",
        "nilai = 1\n",
        "x = kalimat.lower()\n",
        "y = huruf.lower()\n",
        "z = huruf.upper()\n",
        "for i in range(len(kalimat)):\n",
        "    if x [i] == y:\n",
        "        nilai += 1\n",
        "        print('Huruf', y, 'atau Huruf', z, 'ke-', nilai, ': offset-', i)"
      ],
      "execution_count": null,
      "outputs": [
        {
          "output_type": "stream",
          "name": "stdout",
          "text": [
            "Masukkan Kalimat : algoritma pemrograman\n",
            "Masukkan Huruf yang Dicari : a\n",
            "Huruf a atau Huruf A ke- 2 : offset- 0\n",
            "Huruf a atau Huruf A ke- 3 : offset- 8\n",
            "Huruf a atau Huruf A ke- 4 : offset- 17\n",
            "Huruf a atau Huruf A ke- 5 : offset- 19\n"
          ]
        }
      ]
    },
    {
      "cell_type": "code",
      "metadata": {
        "colab": {
          "base_uri": "https://localhost:8080/"
        },
        "id": "RQ3KSdI4NQFy",
        "outputId": "ecc87674-7761-42a6-d7b6-16828578fb31"
      },
      "source": [
        "# contoh 2b\n",
        "kalimat = input('Masukkan Kalimat : ')\n",
        "huruf = input('Masukkan Huruf yang Dicari : ')\n",
        "nilai = 1\n",
        "x = kalimat.lower()\n",
        "y = huruf.lower()\n",
        "z = huruf.upper()\n",
        "for i in range(len(kalimat)):\n",
        "    if x [i] == y:\n",
        "        nilai += 1\n",
        "        print('Huruf', y, 'atau Huruf', z, 'ke-', nilai, ': offset-', i)"
      ],
      "execution_count": null,
      "outputs": [
        {
          "output_type": "stream",
          "name": "stdout",
          "text": [
            "Masukkan Kalimat : Universitas Trunojoyo Madura\n",
            "Masukkan Huruf yang Dicari : t\n",
            "Huruf t atau Huruf T ke- 2 : offset- 8\n",
            "Huruf t atau Huruf T ke- 3 : offset- 12\n"
          ]
        }
      ]
    },
    {
      "cell_type": "markdown",
      "metadata": {
        "id": "wlJx363iNbB7"
      },
      "source": [
        "#### **2.3 Konversi Bilangan**\n",
        "Buatlah code menu untuk konversi bilangan dari Desimal ke Biner dan sebaliknya, yaitu :\n",
        "\n",
        "*   pilihan 1: Desimal ke Biner (input Desimal, output Biner)\n",
        "*   pilihan 2: Biner ke Desimal (input Biner, output Desimal)\n",
        "*   menu lagi, apakah user akan mengulangi operasi ataukah berhenti\n",
        "\n",
        "Contoh output dapat dilihat pada Gambar 3."
      ]
    },
    {
      "cell_type": "code",
      "metadata": {
        "id": "qtzvlKZdN3Hn",
        "colab": {
          "base_uri": "https://localhost:8080/"
        },
        "outputId": "50703766-9698-42d0-ba60-9727dd42399c"
      },
      "source": [
        "# contoh 3a\n",
        "nilai = True\n",
        "while nilai:\n",
        "    print('MENU')\n",
        "    print('Tekan 1 untuk konversi desimal ke biner')\n",
        "    print('Tekan 2 untuk konversi biner ke desimal')\n",
        "    cek = int(input('Masukkan pilihan anda = '))\n",
        "    if cek == 1:\n",
        "        a = int(input('Masukkan desimal = '))\n",
        "        temp = ''\n",
        "        while a != 0:\n",
        "            bagi = a % 2\n",
        "            a = a // 2\n",
        "            temp = str(bagi) + temp\n",
        "        print('bilangan biner =', temp)\n",
        "    elif cek == 2:\n",
        "        b = ((input('Masukkan biner = ')))\n",
        "        hasil = 0\n",
        "        pangkat = (len(b) - 1)\n",
        "        for x in range(len(b)):\n",
        "            a = int(b[x]) * 2 ** pangkat\n",
        "            hasil = hasil + a\n",
        "            pangkat -= 1\n",
        "        print('Bilangan desimal = ', hasil)\n",
        "    ulang = str(input('Ingin mengulang operasi kembali (y/t)?'))\n",
        "    if ulang == 't':\n",
        "        nilai = False\n",
        "    print(70*'=')"
      ],
      "execution_count": null,
      "outputs": [
        {
          "output_type": "stream",
          "name": "stdout",
          "text": [
            "MENU\n",
            "Tekan 1 untuk konversi desimal ke biner\n",
            "Tekan 2 untuk konversi biner ke desimal\n",
            "Masukkan pilihan anda = 1\n",
            "Masukkan desimal = 456\n",
            "bilangan biner = 111001000\n",
            "Ingin mengulang operasi kembali (y/t)?y\n",
            "======================================================================\n",
            "MENU\n",
            "Tekan 1 untuk konversi desimal ke biner\n",
            "Tekan 2 untuk konversi biner ke desimal\n",
            "Masukkan pilihan anda = 2\n",
            "Masukkan biner = 111001000\n",
            "Bilangan desimal =  456\n",
            "Ingin mengulang operasi kembali (y/t)?t\n",
            "======================================================================\n"
          ]
        }
      ]
    },
    {
      "cell_type": "code",
      "metadata": {
        "id": "52WWDi1TN8k8",
        "colab": {
          "base_uri": "https://localhost:8080/"
        },
        "outputId": "09602125-7f90-42ce-c46e-0ab6449dadab"
      },
      "source": [
        "# contoh 3b\n",
        "nilai = True\n",
        "while nilai:\n",
        "    print('MENU')\n",
        "    print('Tekan 1 untuk konversi desimal ke biner')\n",
        "    print('Tekan 2 untuk konversi biner ke desimal')\n",
        "    cek = int(input('Masukkan pilihan anda = '))\n",
        "    if cek == 1:\n",
        "        a = int(input('Masukkan desimal = '))\n",
        "        temp = ''\n",
        "        while a != 0:\n",
        "            bagi = a % 2\n",
        "            a = a // 2\n",
        "            temp = str(bagi) + temp\n",
        "        print('bilangan biner =', temp)\n",
        "    elif cek == 2:\n",
        "        b = ((input('Masukkan biner = ')))\n",
        "        hasil = 0\n",
        "        pangkat = (len(b) - 1)\n",
        "        for x in range(len(b)):\n",
        "            a = int(b[x]) * 2 ** pangkat\n",
        "            hasil = hasil + a\n",
        "            pangkat -= 1\n",
        "        print('Bilangan desimal = ', hasil)\n",
        "    ulang = str(input('Ingin mengulang operasi kembali (y/t)?'))\n",
        "    if ulang == 't':\n",
        "        nilai = False\n",
        "    print(70*'=')"
      ],
      "execution_count": null,
      "outputs": [
        {
          "output_type": "stream",
          "name": "stdout",
          "text": [
            "MENU\n",
            "Tekan 1 untuk konversi desimal ke biner\n",
            "Tekan 2 untuk konversi biner ke desimal\n",
            "Masukkan pilihan anda = 2\n",
            "Masukkan biner = 11110001101\n",
            "Bilangan desimal =  1933\n",
            "Ingin mengulang operasi kembali (y/t)?y\n",
            "======================================================================\n",
            "MENU\n",
            "Tekan 1 untuk konversi desimal ke biner\n",
            "Tekan 2 untuk konversi biner ke desimal\n",
            "Masukkan pilihan anda = 1\n",
            "Masukkan desimal = 11110001101\n",
            "bilangan biner = 1010010110001101010010100111001101\n",
            "Ingin mengulang operasi kembali (y/t)?t\n",
            "======================================================================\n"
          ]
        }
      ]
    }
  ]
}